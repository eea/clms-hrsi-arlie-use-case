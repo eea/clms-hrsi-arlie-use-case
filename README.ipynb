{
 "cells": [
  {
   "cell_type": "markdown",
   "id": "d646eab3-9669-476d-a42e-181d1fcd9465",
   "metadata": {},
   "source": [
    "<img src=\"images/Netherlands.jpg\"/>\n",
    "\n",
    "# ARLIE - Product Overview\n",
    "\n",
    "***\n",
    "\n",
    "#### About\n",
    "\n",
    "ARLIE, which stands for Aggregated River and Lake Ice Extent, is an integral component of the High-Resolution Snow & Ice (HR-S&I) monitoring suite offered by the Copernicus Land Monitoring Service (CLMS), operating under the European Environmental Agency (EEA). This data provides a comprehensive spatial overview of ice conditions in European rivers and lakes, leveraging data from optical and radar observations obtained through the Sentinel-2 and Sentinel-1 satellite constellations.\n",
    "<br>\n",
    "ARLIE offers valuable insights into the presence of ice and snow, but furthermore includes information about open water, clouds, and other features such as vegetation and bare soil ❄️🌊☁️🌱\n",
    "<br>\n",
    "Functioning as a spatial aggregation, ARLIE combines data from the River and Lake Ice Extent products (RLIE S1, RLIE S2, and RLIE S1+S2 products). It describes the surface coverage of lakes and rivers as defined by the EU-Hydro database on 10 km river sections and lakes. The data is stored in a geodatabase using the European ETRS89 LAEA coordinate system (EPSG: 3035), and accessibility is facilitated through a REST API. The ARLIE S1+S2 geodatabase is updated daily with input RLIE products computed from the previous day. Quality control is ensured by calculating a spatial average of RLIE S1, RLIE S2, and RLIE S1+S2 QC values.\n",
    "<br>\n",
    "For a more comprehensive description of the product, please refer to the Copernicus [homepage](https://land.copernicus.eu/pan-european/biophysical-parameters/high-resolution-snow-and-ice-monitoring/ice-products/aggregated-river-and-lake-ice-extent), the [Product User Manual](https://land.copernicus.eu/user-corner/technical-library/hrsi-ice-pum), and the [Technical Note](https://land.copernicus.eu/user-corner/technical-library/aggregated-river-and-lake-ice-extent-s1-s2-usage-manual) for the HR-S&I products.\n",
    "<br>\n",
    "\n",
    "#### Repository content\n",
    "\n",
    "This repository serves as an introductory resource for understanding the ARLIE product, offering practical guides and use cases for data analysis and manipulation. Whether you're a beginner or an experienced user, you can run these notebooks on your preferred platform. If you're unsure where to begin, we recommend exploring how to use Jupyter Notebooks with this helpful [guide](https://www.codecademy.com/article/how-to-use-jupyter-notebooks). If you prefer an alternative option, you can consider to use the [WekEO](https://help.wekeo.eu/en/articles/6337538-what-is-the-wekeo-jupyterhub) platform to run your notebooks.\n",
    "<br>\n",
    "The following notebooks can be found in this repositor: \n",
    "-  [How to get started](#how-to-get-started.ipynb)\n",
    "    1) Initial setup\n",
    "    2) Pick your AOI\n",
    "    3) Import your geometry and display it\n",
    "    4) Transform to WKT format\n",
    "    5) Request ARLIE data\n",
    "    6) Display ARLIE data\n",
    "    7) Display EU Hydro data\n",
    "-  [Use case example 1 ](#use-case-1.ipynb)\n",
    "    1) Load ARLIE data and geometries into dataframes\n",
    "    2) Plot ARLIE time series\n",
    "    3) Visualise EU Hydro lakes on a map\n",
    "    4) Examine annual differences in lake ice extend\n",
    "- [Use case example 2 ](#UseCase1.ipynb)\n",
    "    1) work in progress\n",
    "<br>\n",
    "#### Legal notice\n",
    "Access to data is based on a principle of full, open and free access as established by the Copernicus data and information policy Regulation (EU) No 1159/2013 of 12 July 2013. This regulation establishes registration and licensing conditions for GMES/Copernicus users and can be found here: http://eur-lex.europa.eu/legal-content/EN/TXT/?uri=CELEX%3A32013R1159."
   ]
  }
 ],
 "metadata": {
  "kernelspec": {
   "display_name": "Python 3 (ipykernel)",
   "language": "python",
   "name": "python3"
  },
  "language_info": {
   "codemirror_mode": {
    "name": "ipython",
    "version": 3
   },
   "file_extension": ".py",
   "mimetype": "text/x-python",
   "name": "python",
   "nbconvert_exporter": "python",
   "pygments_lexer": "ipython3",
   "version": "3.10.8"
  }
 },
 "nbformat": 4,
 "nbformat_minor": 5
}
